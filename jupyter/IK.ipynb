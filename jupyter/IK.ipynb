{
 "cells": [
  {
   "cell_type": "markdown",
   "metadata": {},
   "source": [
    "# Cosine theorem for Inverse Kinematics"
   ]
  },
  {
   "cell_type": "markdown",
   "metadata": {},
   "source": [
    "![geometry](../geometry/geometry.PNG)"
   ]
  },
  {
   "cell_type": "markdown",
   "metadata": {},
   "source": [
    "## Equations\n",
    "\n",
    "$\\vec{SW}$ is a \"swingAxis.up\" vector.\n",
    "\n",
    "$E = cos^{-1}\\frac{-\\vec{SW} \\cdot \\vec{S}}{|\\vec{SW}| |\\vec{S}|}$\n",
    "\n",
    "$BM = |\\vec{BM}|$\n",
    "\n",
    "$AM = |\\vec{AM}|$\n",
    "\n",
    "$S = |\\vec{S}|$\n",
    "\n",
    "$A = cos^{-1}\\frac{BM^2 + S^2  - AM^2}{2 \\cdot BM \\cdot S}$\n",
    "\n",
    "$B = cos^{-1}\\frac{AM^2 + BM^2 - S^2}{2 \\cdot AM \\cdot BM}$\n",
    "\n",
    "$C = cos^{-1}\\frac{AM^2 + S^2  - BM^2}{2 \\cdot AM \\cdot S}$"
   ]
  },
  {
   "cell_type": "code",
   "execution_count": null,
   "metadata": {},
   "outputs": [],
   "source": []
  }
 ],
 "metadata": {
  "kernelspec": {
   "display_name": "Python 3",
   "language": "python",
   "name": "python3"
  },
  "language_info": {
   "codemirror_mode": {
    "name": "ipython",
    "version": 3
   },
   "file_extension": ".py",
   "mimetype": "text/x-python",
   "name": "python",
   "nbconvert_exporter": "python",
   "pygments_lexer": "ipython3",
   "version": "3.7.6"
  }
 },
 "nbformat": 4,
 "nbformat_minor": 4
}
